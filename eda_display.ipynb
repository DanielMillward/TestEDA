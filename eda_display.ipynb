{
 "cells": [
  {
   "cell_type": "code",
   "execution_count": null,
   "metadata": {},
   "outputs": [],
   "source": [
    "!pip install pandas"
   ]
  },
  {
   "cell_type": "code",
   "execution_count": 2,
   "metadata": {},
   "outputs": [],
   "source": [
    "def dms_to_decimal(dms):\n",
    "    parts = dms.split(\"°\")\n",
    "    degrees = float(parts[0])\n",
    "\n",
    "    parts = parts[1].split(\"'\")\n",
    "    minutes = float(parts[0])\n",
    "\n",
    "    parts = parts[1].split('\"')\n",
    "    seconds = float(parts[0])\n",
    "\n",
    "    direction = parts[1]  # 'E' or 'W' for longitude, 'N' or 'S' for latitude\n",
    "\n",
    "    decimal_degrees = degrees + minutes / 60 + seconds / 3600\n",
    "\n",
    "    # Adjust for direction\n",
    "    if direction in [\"S\", \"W\"]:\n",
    "        decimal_degrees = -decimal_degrees\n",
    "\n",
    "    return decimal_degrees"
   ]
  },
  {
   "cell_type": "code",
   "execution_count": null,
   "metadata": {},
   "outputs": [],
   "source": [
    "import pandas as pd\n",
    "df = pd.read_csv(\n",
    "    \"https://msi.nga.mil/api/publications/asam?filter=none&sort=date&output=csv\",\n",
    "    usecols=[\n",
    "        \"position\",\n",
    "        \"date\",\n",
    "        \"victim\",\n",
    "    ],\n",
    "    parse_dates=[\"date\"],\n",
    ")\n",
    "df[[\"latitude\", \"longitude\"]] = df[\"position\"].str.split(\" \\n\", expand=True)\n",
    "df[\"latitude\"] = df[\"latitude\"].apply(dms_to_decimal)\n",
    "df[\"longitude\"] = df[\"longitude\"].apply(dms_to_decimal)"
   ]
  }
 ],
 "metadata": {
  "kernelspec": {
   "display_name": ".venv",
   "language": "python",
   "name": "python3"
  },
  "language_info": {
   "codemirror_mode": {
    "name": "ipython",
    "version": 3
   },
   "file_extension": ".py",
   "mimetype": "text/x-python",
   "name": "python",
   "nbconvert_exporter": "python",
   "pygments_lexer": "ipython3",
   "version": "3.12.0"
  }
 },
 "nbformat": 4,
 "nbformat_minor": 2
}
